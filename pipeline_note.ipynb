{
 "cells": [
  {
   "cell_type": "code",
   "execution_count": 1,
   "metadata": {},
   "outputs": [
    {
     "name": "stdout",
     "output_type": "stream",
     "text": [
      "/home/shihong/mrtrix3/lib\n"
     ]
    }
   ],
   "source": [
    "from src.app import run\n",
    "from src.models.update import Update\n",
    "from src.models.subject import Subject\n",
    "import config \n",
    "import os\n",
    "\n",
    "CHOICE = ['mean', 'mean_norm', 'std', 'std_norm']"
   ]
  },
  {
   "cell_type": "code",
   "execution_count": 2,
   "metadata": {},
   "outputs": [
    {
     "name": "stdout",
     "output_type": "stream",
     "text": [
      "pet_norm_region:     ['Pons']\n",
      "freesurfer_path:     /media/labspace/Qi_Chen/PROCESSED/FREESURFER/MK6240/\n",
      "pet_windows:     ['70-90', '90-110', '90-120']\n",
      "kaiba_path:     /media/labspace/Qi_Chen/PROCESSED/KAIBA/\n",
      "update_path:     /media/labspace/Qi_Chen/OSORIO_2019_3_5/OSORIO_MK6240_S16-01529/ANONYMIZED/\n",
      "update_ignore:     ['.DS_Store', '1_RAW']\n",
      "pet_path:     /media/labspace/Qi_Chen/PROCESSED/PET/MK6240_test/\n",
      "source_path:     \n",
      "designer_path:     /media/labspace/Qi_Chen/PROCESSED/DESIGNER/\n"
     ]
    }
   ],
   "source": [
    "for item in config.CONFIG:\n",
    "    print '{}:     {}'.format(item, config.CONFIG[item])"
   ]
  },
  {
   "cell_type": "code",
   "execution_count": 3,
   "metadata": {},
   "outputs": [],
   "source": [
    "def run(update_path, update_ignore, source_path, freesurfer_path, kaiba_path, designer_path, pet_path, pet_windows, pet_norm_region):\n",
    "#     Update.initialize(update_path, update_ignore, source_path)\n",
    "#     subjects = Update.check_update_subjects()\n",
    "    update_subject_lst = os.listdir(update_path)\n",
    "    for ui in update_ignore:\n",
    "        try:\n",
    "            update_subject_lst.remove(ui)\n",
    "        except:\n",
    "            pass\n",
    "    for u in ['O_MK_001']:#update_subject_lst:\n",
    "        subject_path = '{}/{}'.format(update_path, u)\n",
    "        subject = Subject(u, subject_path, freesurfer_path, kaiba_path, designer_path, pet_path, pet_norm_region)\n",
    "        print subject\n",
    "        #subject._update_pet_suv()\n",
    "        subject._update_designer_label()"
   ]
  },
  {
   "cell_type": "code",
   "execution_count": 4,
   "metadata": {},
   "outputs": [
    {
     "name": "stdout",
     "output_type": "stream",
     "text": [
      "<subject O_MK_001 in /media/labspace/Qi_Chen/OSORIO_2019_3_5/OSORIO_MK6240_S16-01529/ANONYMIZED//O_MK_001>\n"
     ]
    }
   ],
   "source": [
    "run(**config.CONFIG)"
   ]
  },
  {
   "cell_type": "code",
   "execution_count": 5,
   "metadata": {
    "scrolled": true
   },
   "outputs": [],
   "source": [
    "# from src.app import run\n",
    "# from src.models.update import Update\n",
    "# from src.models.subject import Subject\n",
    "# import config \n",
    "# import os\n",
    "\n",
    "# CHOICE = ['mean', 'mean_norm', 'std', 'std_norm']\n",
    "\n",
    "# subjects = os.listdir(config.CONFIG['update_path'])\n",
    "# for ui in config.CONFIG['update_ignore']:\n",
    "#     try:\n",
    "#         subjects.remove(ui)\n",
    "#     except:\n",
    "#         pass\n",
    "\n",
    "# pet_path = config.CONFIG['pet_path']\n",
    "# window = config.CONFIG['pet_windows']\n",
    "# res = []\n",
    "# for w in window:\n",
    "#     for c in CHOICE:\n",
    "#         df = Update.update_sum_pet(subjects, pet_path, w, c)\n",
    "#         res.append(df)\n",
    "# print subjects"
   ]
  }
 ],
 "metadata": {
  "kernelspec": {
   "display_name": "Python 2",
   "language": "python",
   "name": "python2"
  },
  "language_info": {
   "codemirror_mode": {
    "name": "ipython",
    "version": 2
   },
   "file_extension": ".py",
   "mimetype": "text/x-python",
   "name": "python",
   "nbconvert_exporter": "python",
   "pygments_lexer": "ipython2",
   "version": "2.7.15"
  }
 },
 "nbformat": 4,
 "nbformat_minor": 2
}
